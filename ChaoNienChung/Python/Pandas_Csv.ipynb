{
 "cells": [
  {
   "cell_type": "markdown",
   "id": "4380ccf4",
   "metadata": {},
   "source": [
    "- 取得目前所處的路徑"
   ]
  },
  {
   "cell_type": "code",
   "execution_count": 44,
   "id": "ac3a6d03",
   "metadata": {},
   "outputs": [
    {
     "data": {
      "text/plain": [
       "'c:\\\\__CODE\\\\GITHUB\\\\STOCK_NOTE\\\\ChaoNienChung\\\\Python'"
      ]
     },
     "execution_count": 44,
     "metadata": {},
     "output_type": "execute_result"
    }
   ],
   "source": [
    "pwd"
   ]
  },
  {
   "cell_type": "markdown",
   "id": "cc6a7589",
   "metadata": {},
   "source": [
    "## Pandas 匯入資料 (csv)"
   ]
  },
  {
   "cell_type": "markdown",
   "id": "53dd5c36",
   "metadata": {},
   "source": [
    "- 利用 pandas 讀取 csv \n",
    "- 利用 pandas 輸出 csv\n",
    "- pandas 基礎操作\n",
    "- df = DataFrame"
   ]
  },
  {
   "cell_type": "code",
   "execution_count": 45,
   "id": "e4edbe27",
   "metadata": {},
   "outputs": [],
   "source": [
    "# 引入 pandas 模組\n",
    "# 將 pandas 簡稱為 pd (不用打那麼多字)\n",
    "\n",
    "import pandas as pd"
   ]
  },
  {
   "cell_type": "code",
   "execution_count": 46,
   "id": "75bbe6ce",
   "metadata": {},
   "outputs": [
    {
     "name": "stdout",
     "output_type": "stream",
     "text": [
      "          Date   Open   High    Low  Close  Volume\n",
      "0     20000104  178.0  178.0  175.0  178.0   35125\n",
      "1     20000105  178.0  182.0  176.0  182.0   69933\n",
      "2     20000106  181.0  182.0  178.0  178.0   34259\n",
      "3     20000107  172.0  175.0  170.0  173.0   40830\n",
      "4     20000110  178.0  180.0  175.0  179.0   48147\n",
      "...        ...    ...    ...    ...    ...     ...\n",
      "6251  20250418  853.0  858.0  850.0  850.0   23249\n",
      "6252  20250421  844.0  847.0  832.0  835.0   20672\n",
      "6253  20250422  826.0  829.0  816.0  816.0   32057\n",
      "6254  20250423  853.0  873.0  848.0  873.0   40685\n",
      "6255  20250424  886.0  886.0  859.0  864.0   34499\n",
      "\n",
      "[6256 rows x 6 columns]\n"
     ]
    }
   ],
   "source": [
    "# 將 csv 內的資料完整讀取出來\n",
    "\n",
    "df = pd.read_csv(\"C:\\\\__STOCK\\\\DATA\\\\TWSE\\\\2330.csv\")\n",
    "print(df)"
   ]
  },
  {
   "cell_type": "code",
   "execution_count": 47,
   "id": "921e5e0b",
   "metadata": {},
   "outputs": [
    {
     "name": "stdout",
     "output_type": "stream",
     "text": [
      "       Date   Open   High    Low  Close  Volume\n",
      "0  20000104  178.0  178.0  175.0  178.0   35125\n",
      "1  20000105  178.0  182.0  176.0  182.0   69933\n",
      "2  20000106  181.0  182.0  178.0  178.0   34259\n",
      "3  20000107  172.0  175.0  170.0  173.0   40830\n",
      "4  20000110  178.0  180.0  175.0  179.0   48147\n"
     ]
    }
   ],
   "source": [
    "# 將 csv 內的資料讀取出來，But 只顯示前五筆\n",
    "# head() 預設為檔案前面五筆 | 可以自行決定要顯示幾筆資料\n",
    "# Ex ： df.head(10) | df.head(25)\n",
    "\n",
    "print(df.head())"
   ]
  },
  {
   "cell_type": "code",
   "execution_count": 48,
   "id": "7b8fb4e4",
   "metadata": {},
   "outputs": [
    {
     "name": "stdout",
     "output_type": "stream",
     "text": [
      "          Date   Open   High    Low  Close  Volume\n",
      "6251  20250418  853.0  858.0  850.0  850.0   23249\n",
      "6252  20250421  844.0  847.0  832.0  835.0   20672\n",
      "6253  20250422  826.0  829.0  816.0  816.0   32057\n",
      "6254  20250423  853.0  873.0  848.0  873.0   40685\n",
      "6255  20250424  886.0  886.0  859.0  864.0   34499\n"
     ]
    }
   ],
   "source": [
    "# 將 csv 內的資料讀取出來，But 只顯示後五筆\n",
    "# head() 預設為檔案後面五筆 | 可以自行決定要顯示幾筆資料\n",
    "# Ex ： df.tail(10) | df.tail(25)\n",
    "\n",
    "print(df.tail())"
   ]
  },
  {
   "cell_type": "code",
   "execution_count": 49,
   "id": "8c7d25e0",
   "metadata": {},
   "outputs": [
    {
     "name": "stdout",
     "output_type": "stream",
     "text": [
      "       Date   Open  Close\n",
      "0  20000104  178.0  178.0\n",
      "1  20000105  178.0  182.0\n",
      "2  20000106  181.0  178.0\n",
      "3  20000107  172.0  173.0\n",
      "4  20000110  178.0  179.0\n",
      "5  20000111  181.0  176.0\n",
      "6  20000112  177.0  181.0\n",
      "7  20000113  181.0  178.0\n",
      "8  20000114  180.0  182.0\n",
      "9  20000115  188.0  188.0\n"
     ]
    }
   ],
   "source": [
    "# 當我只需要某幾個 columns\n",
    "\n",
    "df = pd.read_csv(\"C:\\\\__STOCK\\\\DATA\\\\TWSE\\\\2330.csv\", usecols=[\"Date\", \"Open\", \"Close\"])\n",
    "print(df.head(10))"
   ]
  },
  {
   "cell_type": "code",
   "execution_count": 50,
   "id": "f37ed902",
   "metadata": {},
   "outputs": [
    {
     "name": "stdout",
     "output_type": "stream",
     "text": [
      "           Open  Close\n",
      "Date                  \n",
      "20000104  178.0  178.0\n",
      "20000105  178.0  182.0\n",
      "20000106  181.0  178.0\n",
      "20000107  172.0  173.0\n",
      "20000110  178.0  179.0\n",
      "20000111  181.0  176.0\n",
      "20000112  177.0  181.0\n",
      "20000113  181.0  178.0\n",
      "20000114  180.0  182.0\n",
      "20000115  188.0  188.0\n"
     ]
    }
   ],
   "source": [
    "# 當我只需要某幾個 columns\n",
    "# 將 Date 設定為 index\n",
    "\n",
    "df = pd.read_csv(\"C:\\\\__STOCK\\\\DATA\\\\TWSE\\\\2330.csv\", usecols=[\"Date\", \"Open\", \"Close\"], index_col=[\"Date\"])\n",
    "print(df.head(10))"
   ]
  },
  {
   "cell_type": "code",
   "execution_count": 51,
   "id": "e3417b89",
   "metadata": {},
   "outputs": [
    {
     "name": "stdout",
     "output_type": "stream",
     "text": [
      "<class 'pandas.core.frame.DataFrame'>\n"
     ]
    }
   ],
   "source": [
    "# DataFrame 的型態是什麼？\n",
    "\n",
    "print(type(df))"
   ]
  },
  {
   "cell_type": "code",
   "execution_count": 52,
   "id": "a474968d",
   "metadata": {},
   "outputs": [
    {
     "name": "stdout",
     "output_type": "stream",
     "text": [
      "Index([20000104, 20000105, 20000106, 20000107, 20000110, 20000111, 20000112,\n",
      "       20000113, 20000114, 20000115,\n",
      "       ...\n",
      "       20250411, 20250414, 20250415, 20250416, 20250417, 20250418, 20250421,\n",
      "       20250422, 20250423, 20250424],\n",
      "      dtype='int64', name='Date', length=6256)\n"
     ]
    }
   ],
   "source": [
    "# DataFrame Index 長什麼樣子？\n",
    "\n",
    "print(df.index)"
   ]
  },
  {
   "cell_type": "code",
   "execution_count": 53,
   "id": "fa9a763e",
   "metadata": {},
   "outputs": [
    {
     "name": "stdout",
     "output_type": "stream",
     "text": [
      "<class 'pandas.core.indexes.base.Index'>\n"
     ]
    }
   ],
   "source": [
    "# df.index 的型態是什麼？\n",
    "\n",
    "print(type(df.index))"
   ]
  },
  {
   "cell_type": "code",
   "execution_count": 54,
   "id": "75cdd65f",
   "metadata": {},
   "outputs": [
    {
     "name": "stdout",
     "output_type": "stream",
     "text": [
      "Date\n",
      "20000104    178.0\n",
      "20000105    182.0\n",
      "20000106    178.0\n",
      "20000107    173.0\n",
      "20000110    179.0\n",
      "            ...  \n",
      "20250418    850.0\n",
      "20250421    835.0\n",
      "20250422    816.0\n",
      "20250423    873.0\n",
      "20250424    864.0\n",
      "Name: Close, Length: 6256, dtype: float64\n"
     ]
    }
   ],
   "source": [
    "# 只截取某個 columns\n",
    "# 沒有 columns 名稱\n",
    "\n",
    "df_close = df[\"Close\"]\n",
    "print(df_close)"
   ]
  },
  {
   "cell_type": "code",
   "execution_count": 55,
   "id": "f89a6d33",
   "metadata": {},
   "outputs": [
    {
     "name": "stdout",
     "output_type": "stream",
     "text": [
      "          Close\n",
      "Date           \n",
      "20000104  178.0\n",
      "20000105  182.0\n",
      "20000106  178.0\n",
      "20000107  173.0\n",
      "20000110  179.0\n",
      "...         ...\n",
      "20250418  850.0\n",
      "20250421  835.0\n",
      "20250422  816.0\n",
      "20250423  873.0\n",
      "20250424  864.0\n",
      "\n",
      "[6256 rows x 1 columns]\n"
     ]
    }
   ],
   "source": [
    "# 只截取某個 columns\n",
    "# 有 columns 名稱\n",
    "\n",
    "df_close = df[[\"Close\"]]\n",
    "print(df_close)"
   ]
  },
  {
   "cell_type": "code",
   "execution_count": 56,
   "id": "6da1ee11",
   "metadata": {},
   "outputs": [
    {
     "name": "stdout",
     "output_type": "stream",
     "text": [
      "<class 'pandas.core.frame.DataFrame'>\n"
     ]
    }
   ],
   "source": [
    "# df_close 的型態是什麼？\n",
    "\n",
    "print(type(df_close))"
   ]
  },
  {
   "cell_type": "code",
   "execution_count": 57,
   "id": "fb99ca01",
   "metadata": {},
   "outputs": [
    {
     "name": "stdout",
     "output_type": "stream",
     "text": [
      "           Open  Close\n",
      "Date                  \n",
      "20000104  178.0  178.0\n",
      "20000105  178.0  182.0\n",
      "20000106  181.0  178.0\n",
      "20000107  172.0  173.0\n",
      "20000110  178.0  179.0\n",
      "20000111  181.0  176.0\n",
      "20000112  177.0  181.0\n",
      "20000113  181.0  178.0\n",
      "20000114  180.0  182.0\n",
      "20000115  188.0  188.0\n"
     ]
    }
   ],
   "source": [
    "# 截取某列 與 某幾個 columns 的資料\n",
    "# columns 有名稱\n",
    "\n",
    "df_1 = df.iloc[0:10][[\"Open\", \"Close\"]]\n",
    "print(df_1)"
   ]
  }
 ],
 "metadata": {
  "kernelspec": {
   "display_name": "Python 3",
   "language": "python",
   "name": "python3"
  },
  "language_info": {
   "codemirror_mode": {
    "name": "ipython",
    "version": 3
   },
   "file_extension": ".py",
   "mimetype": "text/x-python",
   "name": "python",
   "nbconvert_exporter": "python",
   "pygments_lexer": "ipython3",
   "version": "3.13.3"
  }
 },
 "nbformat": 4,
 "nbformat_minor": 5
}
